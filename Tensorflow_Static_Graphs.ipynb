{
  "nbformat": 4,
  "nbformat_minor": 0,
  "metadata": {
    "colab": {
      "name": "Tensorflow Static Graphs.ipynb",
      "provenance": [],
      "authorship_tag": "ABX9TyN46XmmYiWUs8x87WFHQnHk",
      "include_colab_link": true
    },
    "kernelspec": {
      "name": "python3",
      "display_name": "Python 3"
    },
    "accelerator": "GPU"
  },
  "cells": [
    {
      "cell_type": "markdown",
      "metadata": {
        "id": "view-in-github",
        "colab_type": "text"
      },
      "source": [
        "<a href=\"https://colab.research.google.com/github/ACSoupir/PytorchExamples/blob/master/Tensorflow_Static_Graphs.ipynb\" target=\"_parent\"><img src=\"https://colab.research.google.com/assets/colab-badge.svg\" alt=\"Open In Colab\"/></a>"
      ]
    },
    {
      "cell_type": "markdown",
      "metadata": {
        "id": "MFfMH0-xuiLB",
        "colab_type": "text"
      },
      "source": [
        "Colab version of tensorflow that was installed is 2.2.0 which doesn't have the `placeholder()` function. To solve this, [this](https://github.com/theislab/scgen/issues/14#issuecomment-564210550) comment on GitHub stated that version 1.4 does support `placeholder()` and so the first block here installs either v1.4 or v2.2.0. Just have to uncomment the line that has the version wanted."
      ]
    },
    {
      "cell_type": "code",
      "metadata": {
        "id": "KQQR8F6TuCAO",
        "colab_type": "code",
        "colab": {}
      },
      "source": [
        "#!pip install tensorflow==1.4\n",
        "#!pip install tensorflow==2.2.0"
      ],
      "execution_count": 0,
      "outputs": []
    },
    {
      "cell_type": "code",
      "metadata": {
        "id": "DQ7ybR2ntKnw",
        "colab_type": "code",
        "colab": {}
      },
      "source": [
        "import tensorflow as tf\n",
        "import numpy as np"
      ],
      "execution_count": 0,
      "outputs": []
    },
    {
      "cell_type": "code",
      "metadata": {
        "id": "QuT3Qet6tXar",
        "colab_type": "code",
        "colab": {}
      },
      "source": [
        "# First we set up the computational graph:\n",
        "\n",
        "# N is batch size; D_in is input dimension;\n",
        "# H is hidden dimension; D_out is output dimension.\n",
        "N, D_in, H, D_out = 64, 1000, 100, 10"
      ],
      "execution_count": 0,
      "outputs": []
    },
    {
      "cell_type": "code",
      "metadata": {
        "id": "iZPfZRAQtmop",
        "colab_type": "code",
        "colab": {}
      },
      "source": [
        "# Create placeholders for the input and target data; these will be filled\n",
        "# with real data when we execute the graph.\n",
        "x = tf.placeholder(tf.float32, shape=(None, D_in))\n",
        "y = tf.placeholder(tf.float32, shape=(None, D_out))"
      ],
      "execution_count": 0,
      "outputs": []
    },
    {
      "cell_type": "code",
      "metadata": {
        "id": "wGAQRQ6xtp2b",
        "colab_type": "code",
        "colab": {}
      },
      "source": [
        "# Create Variables for the weights and initialize them with random data.\n",
        "# A TensorFlow Variable persists its value across executions of the graph.\n",
        "w1 = tf.Variable(tf.random_normal((D_in, H)))\n",
        "w2 = tf.Variable(tf.random_normal((H, D_out)))"
      ],
      "execution_count": 0,
      "outputs": []
    },
    {
      "cell_type": "code",
      "metadata": {
        "id": "Cg3l0nGQvWtz",
        "colab_type": "code",
        "colab": {}
      },
      "source": [
        "# Forward pass: Compute the predicted y using operations on TensorFlow Tensors.\n",
        "# Note that this code does not actually perform any numeric operations; it\n",
        "# merely sets up the computational graph that we will later execute.\n",
        "h = tf.matmul(x, w1)\n",
        "h_relu = tf.maximum(h, tf.zeros(1))\n",
        "y_pred = tf.matmul(h_relu, w2)"
      ],
      "execution_count": 0,
      "outputs": []
    },
    {
      "cell_type": "code",
      "metadata": {
        "id": "41i59ZH4vYH0",
        "colab_type": "code",
        "colab": {}
      },
      "source": [
        "# Compute loss using operations on TensorFlow Tensors\n",
        "loss = tf.reduce_sum((y - y_pred) ** 2.0)"
      ],
      "execution_count": 0,
      "outputs": []
    },
    {
      "cell_type": "code",
      "metadata": {
        "id": "s8KjDidOvfK9",
        "colab_type": "code",
        "colab": {}
      },
      "source": [
        "# Compute gradient of the loss with respect to w1 and w2.\n",
        "grad_w1, grad_w2 = tf.gradients(loss, [w1, w2])"
      ],
      "execution_count": 0,
      "outputs": []
    },
    {
      "cell_type": "code",
      "metadata": {
        "id": "rBtbI_4-vga1",
        "colab_type": "code",
        "colab": {}
      },
      "source": [
        "# Update the weights using gradient descent. To actually update the weights\n",
        "# we need to evaluate new_w1 and new_w2 when executing the graph. Note that\n",
        "# in TensorFlow the the act of updating the value of the weights is part of\n",
        "# the computational graph; in PyTorch this happens outside the computational\n",
        "# graph.\n",
        "learning_rate = 1e-6\n",
        "new_w1 = w1.assign(w1 - learning_rate * grad_w1)\n",
        "new_w2 = w2.assign(w2 - learning_rate * grad_w2)"
      ],
      "execution_count": 0,
      "outputs": []
    },
    {
      "cell_type": "code",
      "metadata": {
        "id": "urmRuOKlviys",
        "colab_type": "code",
        "colab": {
          "base_uri": "https://localhost:8080/",
          "height": 201
        },
        "outputId": "7eec8cd2-07f4-4146-d594-ba56766f5918"
      },
      "source": [
        "# Now we have built our computational graph, so we enter a TensorFlow session to\n",
        "# actually execute the graph.\n",
        "with tf.Session() as sess:\n",
        "    # Run the graph once to initialize the Variables w1 and w2.\n",
        "    sess.run(tf.global_variables_initializer())\n",
        "\n",
        "    # Create numpy arrays holding the actual data for the inputs x and targets\n",
        "    # y\n",
        "    x_value = np.random.randn(N, D_in)\n",
        "    y_value = np.random.randn(N, D_out)\n",
        "    for t in range(10000):\n",
        "        # Execute the graph many times. Each time it executes we want to bind\n",
        "        # x_value to x and y_value to y, specified with the feed_dict argument.\n",
        "        # Each time we execute the graph we want to compute the values for loss,\n",
        "        # new_w1, and new_w2; the values of these Tensors are returned as numpy\n",
        "        # arrays.\n",
        "        loss_value, _, _ = sess.run([loss, new_w1, new_w2],\n",
        "                                    feed_dict={x: x_value, y: y_value})\n",
        "        if t % 1000 == 999:\n",
        "            print(t, loss_value)"
      ],
      "execution_count": 10,
      "outputs": [
        {
          "output_type": "stream",
          "text": [
            "999 3.2556286e-06\n",
            "1999 8.7498927e-07\n",
            "2999 4.4578238e-07\n",
            "3999 2.9713428e-07\n",
            "4999 2.2444665e-07\n",
            "5999 1.6801778e-07\n",
            "6999 1.7192164e-07\n",
            "7999 1.3533494e-07\n",
            "8999 1.3839579e-07\n",
            "9999 1.0836543e-07\n"
          ],
          "name": "stdout"
        }
      ]
    },
    {
      "cell_type": "code",
      "metadata": {
        "id": "wmgsI7AWvkdd",
        "colab_type": "code",
        "colab": {}
      },
      "source": [
        ""
      ],
      "execution_count": 0,
      "outputs": []
    }
  ]
}