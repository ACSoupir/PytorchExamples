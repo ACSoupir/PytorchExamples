{
  "nbformat": 4,
  "nbformat_minor": 0,
  "metadata": {
    "colab": {
      "name": "PyTorch Test.ipynb",
      "provenance": [],
      "collapsed_sections": [],
      "toc_visible": true,
      "authorship_tag": "ABX9TyMJbhoGZY0Rvp38QOVELv6f",
      "include_colab_link": true
    },
    "kernelspec": {
      "name": "python3",
      "display_name": "Python 3"
    },
    "accelerator": "GPU"
  },
  "cells": [
    {
      "cell_type": "markdown",
      "metadata": {
        "id": "view-in-github",
        "colab_type": "text"
      },
      "source": [
        "<a href=\"https://colab.research.google.com/github/ACSoupir/PytorchExamples/blob/master/PyTorch_Test.ipynb\" target=\"_parent\"><img src=\"https://colab.research.google.com/assets/colab-badge.svg\" alt=\"Open In Colab\"/></a>"
      ]
    },
    {
      "cell_type": "markdown",
      "metadata": {
        "id": "gyI6cSMa65ET",
        "colab_type": "text"
      },
      "source": [
        "# Training a Classifier on CIFAR-10 Data"
      ]
    },
    {
      "cell_type": "code",
      "metadata": {
        "id": "wakz5iOeHSg5",
        "colab_type": "code",
        "colab": {
          "base_uri": "https://localhost:8080/",
          "height": 35
        },
        "outputId": "45051105-627d-4fb7-b2f0-d692bf53f11e"
      },
      "source": [
        "import sys\n",
        "sys.version"
      ],
      "execution_count": 1,
      "outputs": [
        {
          "output_type": "execute_result",
          "data": {
            "text/plain": [
              "'3.6.9 (default, Apr 18 2020, 01:56:04) \\n[GCC 8.4.0]'"
            ]
          },
          "metadata": {
            "tags": []
          },
          "execution_count": 1
        }
      ]
    },
    {
      "cell_type": "code",
      "metadata": {
        "id": "ZpzjzWTQHarm",
        "colab_type": "code",
        "colab": {}
      },
      "source": [
        "#!pip install torch==1.5.0+cu101 torchvision==0.6.0+cu101 -f https://download.pytorch.org/whl/torch_stable.html"
      ],
      "execution_count": 0,
      "outputs": []
    },
    {
      "cell_type": "code",
      "metadata": {
        "id": "mqFI0PUlHfqc",
        "colab_type": "code",
        "colab": {}
      },
      "source": [
        "import torch\n",
        "torch.manual_seed(333)\n",
        "torch.backends.cudnn.deterministic = True\n",
        "torch.backends.cudnn.benchmark = False\n",
        "import torchvision\n",
        "import torch.nn as nn\n",
        "import numpy as np\n",
        "np.random.seed(333)\n",
        "import torchvision.transforms as transforms"
      ],
      "execution_count": 0,
      "outputs": []
    },
    {
      "cell_type": "markdown",
      "metadata": {
        "id": "98YPKiiLKVkH",
        "colab_type": "text"
      },
      "source": [
        "# Input Pipeline"
      ]
    },
    {
      "cell_type": "code",
      "metadata": {
        "id": "S3K78mQnMOWN",
        "colab_type": "code",
        "colab": {}
      },
      "source": [
        "transform = transforms.Compose(\n",
        "    [transforms.ToTensor(),\n",
        "     transforms.Normalize((0.5, 0.5, 0.5), (0.5, 0.5, 0.5))])"
      ],
      "execution_count": 0,
      "outputs": []
    },
    {
      "cell_type": "code",
      "metadata": {
        "id": "f-Ck7WNMKs_O",
        "colab_type": "code",
        "colab": {
          "base_uri": "https://localhost:8080/",
          "height": 54
        },
        "outputId": "a8bb2fae-fc57-4b9c-fbff-389cdb49d6f1"
      },
      "source": [
        "# Download and construct CIFAR-10 dataset.\n",
        "trainset = torchvision.datasets.CIFAR10(root='./data', train=True,\n",
        "                                        download=True, transform=transform)\n",
        "testset = torchvision.datasets.CIFAR10(root='./data', train=False,\n",
        "                                       download=True, transform=transform)"
      ],
      "execution_count": 5,
      "outputs": [
        {
          "output_type": "stream",
          "text": [
            "Files already downloaded and verified\n",
            "Files already downloaded and verified\n"
          ],
          "name": "stdout"
        }
      ]
    },
    {
      "cell_type": "code",
      "metadata": {
        "id": "JpyvRIW6MwJU",
        "colab_type": "code",
        "colab": {}
      },
      "source": [
        "trainloader = torch.utils.data.DataLoader(trainset, batch_size=4,\n",
        "                                          shuffle=True, num_workers=2)\n",
        "\n",
        "testloader = torch.utils.data.DataLoader(testset, batch_size=4,\n",
        "                                         shuffle=False, num_workers=2)"
      ],
      "execution_count": 0,
      "outputs": []
    },
    {
      "cell_type": "code",
      "metadata": {
        "id": "z7RPF4thM8MA",
        "colab_type": "code",
        "colab": {}
      },
      "source": [
        "classes = ('plane', 'car', 'bird', 'cat',\n",
        "           'deer', 'dog', 'frog', 'horse', 'ship', 'truck')"
      ],
      "execution_count": 0,
      "outputs": []
    },
    {
      "cell_type": "markdown",
      "metadata": {
        "id": "z93CJKWcNHb5",
        "colab_type": "text"
      },
      "source": [
        "# Visualize the an image in the CIFAR10 dataset"
      ]
    },
    {
      "cell_type": "code",
      "metadata": {
        "id": "MiFaVKzmNAkk",
        "colab_type": "code",
        "colab": {
          "base_uri": "https://localhost:8080/",
          "height": 156
        },
        "outputId": "829c2c59-aa70-4e0c-9aaa-9707da838a13"
      },
      "source": [
        "import matplotlib.pyplot as plt\n",
        "import numpy as np\n",
        "\n",
        "# functions to show an image\n",
        "\n",
        "\n",
        "def imshow(img):\n",
        "    img = img / 2 + 0.5     # unnormalize\n",
        "    npimg = img.numpy()\n",
        "    plt.imshow(np.transpose(npimg, (1, 2, 0)))\n",
        "    plt.show()\n",
        "\n",
        "\n",
        "# get some random training images\n",
        "dataiter = iter(trainloader)\n",
        "images, labels = dataiter.next()\n",
        "\n",
        "# show images\n",
        "imshow(torchvision.utils.make_grid(images))\n",
        "# print labels\n",
        "print(' '.join('%5s' % classes[labels[j]] for j in range(4)))"
      ],
      "execution_count": 8,
      "outputs": [
        {
          "output_type": "display_data",
          "data": {
            "image/png": "[encoded data removed]",
            "text/plain": [
              "<Figure size 432x288 with 1 Axes>"
            ]
          },
          "metadata": {
            "tags": [],
            "needs_background": "light"
          }
        },
        {
          "output_type": "stream",
          "text": [
            "  car horse  bird  frog\n"
          ],
          "name": "stdout"
        }
      ]
    },
    {
      "cell_type": "markdown",
      "metadata": {
        "id": "NtF88Z4nNbsM",
        "colab_type": "text"
      },
      "source": [
        "# Create CNN"
      ]
    },
    {
      "cell_type": "code",
      "metadata": {
        "id": "IIM2PTAzNrx_",
        "colab_type": "code",
        "colab": {}
      },
      "source": [
        "import torch.nn as nn\n",
        "import torch.nn.functional as F"
      ],
      "execution_count": 0,
      "outputs": []
    },
    {
      "cell_type": "markdown",
      "metadata": {
        "id": "mZAgByTrNvoX",
        "colab_type": "text"
      },
      "source": [
        "Need to create a class with the `__init__`"
      ]
    },
    {
      "cell_type": "code",
      "metadata": {
        "id": "o0pKP0z9NghE",
        "colab_type": "code",
        "colab": {}
      },
      "source": [
        "class Net(nn.Module):\n",
        "    def __init__(self):\n",
        "        super(Net, self).__init__()\n",
        "        self.conv1 = nn.Conv2d(3, 4, 5)\n",
        "        self.pool = nn.MaxPool2d(2, 2)\n",
        "        self.conv2 = nn.Conv2d(4, 16, 5)\n",
        "        self.fc1 = nn.Linear(16 * 5 * 5, 120)\n",
        "        self.fc2 = nn.Linear(120, 84)\n",
        "        self.fc3 = nn.Linear(84, 10)\n",
        "\n",
        "    def forward(self, x):\n",
        "        x = self.pool(F.relu(self.conv1(x)))\n",
        "        x = self.pool(F.relu(self.conv2(x)))\n",
        "        x = x.view(-1, 16 * 5 * 5)\n",
        "        x = F.relu(self.fc1(x))\n",
        "        x = F.relu(self.fc2(x))\n",
        "        x = self.fc3(x)\n",
        "        return x"
      ],
      "execution_count": 0,
      "outputs": []
    },
    {
      "cell_type": "code",
      "metadata": {
        "id": "3eqe3ObkKoOh",
        "colab_type": "code",
        "colab": {}
      },
      "source": [
        "#use_cuda = True\n",
        "#if use_cuda and torch.cuda.is_available():\n",
        "#    net.cuda()\n",
        "\n",
        "device = torch.device(\"cuda:0\" if torch.cuda.is_available() else \"cpu\")\n",
        "\n",
        "# Assuming that we are on a CUDA machine, this should print a CUDA device:\n",
        "\n",
        "#print(device)"
      ],
      "execution_count": 0,
      "outputs": []
    },
    {
      "cell_type": "code",
      "metadata": {
        "id": "RgcOUp7aOC9L",
        "colab_type": "code",
        "colab": {
          "base_uri": "https://localhost:8080/",
          "height": 35
        },
        "outputId": "92a5af78-04ab-476b-d180-2878be03a4fb"
      },
      "source": [
        "use_cuda=True\n",
        "net = Net()\n",
        "\n",
        "if(use_cuda):\n",
        "  net = net.to(device)\n",
        "  print(\"GPU (\", device, \") will be used!\", sep=\"\")\n",
        "else:\n",
        "  print(\"Training will happen on CPU!!\\n\")\n",
        "  print(net)"
      ],
      "execution_count": 12,
      "outputs": [
        {
          "output_type": "stream",
          "text": [
            "GPU (cuda:0) will be used!\n"
          ],
          "name": "stdout"
        }
      ]
    },
    {
      "cell_type": "code",
      "metadata": {
        "id": "Wrfote4lS6dy",
        "colab_type": "code",
        "colab": {}
      },
      "source": [
        "#use_cuda = True\n",
        "#net = net.to(device)\n",
        "#print(net)"
      ],
      "execution_count": 0,
      "outputs": []
    },
    {
      "cell_type": "markdown",
      "metadata": {
        "id": "2aDZSehBONql",
        "colab_type": "text"
      },
      "source": [
        "# Defining Loss and Optimization Functions"
      ]
    },
    {
      "cell_type": "code",
      "metadata": {
        "id": "8SSKOIuFOSNg",
        "colab_type": "code",
        "colab": {}
      },
      "source": [
        "import torch.optim as optim\n",
        "\n",
        "criterion = nn.CrossEntropyLoss()\n",
        "optimizer = optim.SGD(net.parameters(), lr=0.001, momentum=0.9)"
      ],
      "execution_count": 0,
      "outputs": []
    },
    {
      "cell_type": "markdown",
      "metadata": {
        "id": "xXh29_udOZKH",
        "colab_type": "text"
      },
      "source": [
        "# Training the Network"
      ]
    },
    {
      "cell_type": "code",
      "metadata": {
        "id": "9Fz5nSd61cTq",
        "colab_type": "code",
        "colab": {
          "base_uri": "https://localhost:8080/",
          "height": 35
        },
        "outputId": "264310e8-d6c0-42f6-8ddc-ffc1ac8509e5"
      },
      "source": [
        "use_cuda"
      ],
      "execution_count": 15,
      "outputs": [
        {
          "output_type": "execute_result",
          "data": {
            "text/plain": [
              "True"
            ]
          },
          "metadata": {
            "tags": []
          },
          "execution_count": 15
        }
      ]
    },
    {
      "cell_type": "code",
      "metadata": {
        "id": "57pPCMa3OXgF",
        "colab_type": "code",
        "colab": {
          "base_uri": "https://localhost:8080/",
          "height": 1000
        },
        "outputId": "b2fca9d2-5d10-4dba-8f49-ce404ae291b0"
      },
      "source": [
        "for epoch in range(10):  # loop over the dataset multiple times\n",
        "\n",
        "    running_loss = 0.0\n",
        "    for i, data in enumerate(trainloader, 0):\n",
        "        # get the inputs; data is a list of [inputs, labels]\n",
        "        inputs, labels = data\n",
        "\n",
        "        #if gpu is available, send images and labels to the gpu\n",
        "        #inputs, labels = data[0].to(device), data[1].to(device)\n",
        "        if use_cuda:\n",
        "          inputs, labels = inputs.to(device), labels.to(device)\n",
        "\n",
        "        # zero the parameter gradients\n",
        "        optimizer.zero_grad()\n",
        "\n",
        "        # forward + backward + optimize\n",
        "        outputs = net(inputs)\n",
        "        loss = criterion(outputs, labels)\n",
        "        loss.backward()\n",
        "        optimizer.step()\n",
        "\n",
        "        # print statistics\n",
        "        running_loss += loss.item()\n",
        "        if i % 2000 == 1999:    # print every 2000 mini-batches\n",
        "            print('[%d, %5d] loss: %.3f' %\n",
        "                  (epoch + 1, i + 1, running_loss / 2000))\n",
        "            running_loss = 0.0\n",
        "\n",
        "print('Finished Training')"
      ],
      "execution_count": 16,
      "outputs": [
        {
          "output_type": "stream",
          "text": [
            "[1,  2000] loss: 2.214\n",
            "[1,  4000] loss: 1.857\n",
            "[1,  6000] loss: 1.682\n",
            "[1,  8000] loss: 1.637\n",
            "[1, 10000] loss: 1.570\n",
            "[1, 12000] loss: 1.529\n",
            "[2,  2000] loss: 1.462\n",
            "[2,  4000] loss: 1.430\n",
            "[2,  6000] loss: 1.397\n",
            "[2,  8000] loss: 1.384\n",
            "[2, 10000] loss: 1.356\n",
            "[2, 12000] loss: 1.342\n",
            "[3,  2000] loss: 1.278\n",
            "[3,  4000] loss: 1.260\n",
            "[3,  6000] loss: 1.246\n",
            "[3,  8000] loss: 1.257\n",
            "[3, 10000] loss: 1.238\n",
            "[3, 12000] loss: 1.241\n",
            "[4,  2000] loss: 1.158\n",
            "[4,  4000] loss: 1.152\n",
            "[4,  6000] loss: 1.158\n",
            "[4,  8000] loss: 1.165\n",
            "[4, 10000] loss: 1.155\n",
            "[4, 12000] loss: 1.164\n",
            "[5,  2000] loss: 1.078\n",
            "[5,  4000] loss: 1.059\n",
            "[5,  6000] loss: 1.100\n",
            "[5,  8000] loss: 1.087\n",
            "[5, 10000] loss: 1.093\n",
            "[5, 12000] loss: 1.092\n",
            "[6,  2000] loss: 1.015\n",
            "[6,  4000] loss: 1.010\n",
            "[6,  6000] loss: 1.022\n",
            "[6,  8000] loss: 1.035\n",
            "[6, 10000] loss: 1.028\n",
            "[6, 12000] loss: 1.056\n",
            "[7,  2000] loss: 0.948\n",
            "[7,  4000] loss: 0.961\n",
            "[7,  6000] loss: 0.984\n",
            "[7,  8000] loss: 0.985\n",
            "[7, 10000] loss: 0.994\n",
            "[7, 12000] loss: 1.007\n",
            "[8,  2000] loss: 0.916\n",
            "[8,  4000] loss: 0.919\n",
            "[8,  6000] loss: 0.935\n",
            "[8,  8000] loss: 0.954\n",
            "[8, 10000] loss: 0.954\n",
            "[8, 12000] loss: 0.972\n",
            "[9,  2000] loss: 0.856\n",
            "[9,  4000] loss: 0.885\n",
            "[9,  6000] loss: 0.907\n",
            "[9,  8000] loss: 0.933\n",
            "[9, 10000] loss: 0.945\n",
            "[9, 12000] loss: 0.932\n",
            "[10,  2000] loss: 0.819\n",
            "[10,  4000] loss: 0.866\n",
            "[10,  6000] loss: 0.889\n",
            "[10,  8000] loss: 0.886\n",
            "[10, 10000] loss: 0.890\n",
            "[10, 12000] loss: 0.904\n",
            "Finished Training\n"
          ],
          "name": "stdout"
        }
      ]
    },
    {
      "cell_type": "markdown",
      "metadata": {
        "id": "0VNTB4TFhYH9",
        "colab_type": "text"
      },
      "source": [
        "# Saving the trained model"
      ]
    },
    {
      "cell_type": "code",
      "metadata": {
        "id": "b-xcxV7uhbYl",
        "colab_type": "code",
        "colab": {}
      },
      "source": [
        "PATH = './cifar_net.pth'\n",
        "torch.save(net.state_dict(), PATH)"
      ],
      "execution_count": 0,
      "outputs": []
    },
    {
      "cell_type": "markdown",
      "metadata": {
        "id": "cLK_N-3RiRiW",
        "colab_type": "text"
      },
      "source": [
        "# Testing model"
      ]
    },
    {
      "cell_type": "markdown",
      "metadata": {
        "id": "pLKpOYoJix5A",
        "colab_type": "text"
      },
      "source": [
        "This is going to check whether the predicted class is the same as the true test class. First, the true class of the images are printed. Following, the images are passed into the model and then the predicted classes are appended to a list and printed out."
      ]
    },
    {
      "cell_type": "code",
      "metadata": {
        "id": "LWj4WX5diHs8",
        "colab_type": "code",
        "colab": {
          "base_uri": "https://localhost:8080/",
          "height": 156
        },
        "outputId": "e7dcdece-f095-42f1-ce89-11f75eaae61f"
      },
      "source": [
        "dataiter = iter(testloader)\n",
        "images, labels = dataiter.next()\n",
        "\n",
        "# print images\n",
        "imshow(torchvision.utils.make_grid(images))\n",
        "print('GroundTruth: ', ' '.join('%5s' % classes[labels[j]] for j in range(4)))"
      ],
      "execution_count": 18,
      "outputs": [
        {
          "output_type": "display_data",
          "data": {
            "image/png": "[encoded data removed]",
            "text/plain": [
              "<Figure size 432x288 with 1 Axes>"
            ]
          },
          "metadata": {
            "tags": [],
            "needs_background": "light"
          }
        },
        {
          "output_type": "stream",
          "text": [
            "GroundTruth:    cat  ship  ship plane\n"
          ],
          "name": "stdout"
        }
      ]
    },
    {
      "cell_type": "markdown",
      "metadata": {
        "id": "F9hPegGlkeT-",
        "colab_type": "text"
      },
      "source": [
        "Loading in the model.\n",
        "\n",
        "Interestingly, we set `net` to go to `device` which is gpu, but we also have to later set the images that the classes is being predicted for `.to(device)` otherwise it gives an error."
      ]
    },
    {
      "cell_type": "code",
      "metadata": {
        "id": "tvAWVLCEj1WZ",
        "colab_type": "code",
        "colab": {}
      },
      "source": [
        "net = Net()\n",
        "net.load_state_dict(torch.load(PATH))\n",
        "net = net.to(device)"
      ],
      "execution_count": 0,
      "outputs": []
    },
    {
      "cell_type": "code",
      "metadata": {
        "id": "SSMgIA--q0kz",
        "colab_type": "code",
        "colab": {}
      },
      "source": [
        "outputs = net(images.to(device))"
      ],
      "execution_count": 0,
      "outputs": []
    },
    {
      "cell_type": "code",
      "metadata": {
        "id": "747QrpJUs6Zw",
        "colab_type": "code",
        "colab": {
          "base_uri": "https://localhost:8080/",
          "height": 35
        },
        "outputId": "4de4e012-c5a9-48c3-cc0c-e7fab208944c"
      },
      "source": [
        "_, predicted = torch.max(outputs, 1)\n",
        "\n",
        "print('Predicted: ', ' '.join('%5s' % classes[predicted[j]]\n",
        "                              for j in range(4)))"
      ],
      "execution_count": 21,
      "outputs": [
        {
          "output_type": "stream",
          "text": [
            "Predicted:    cat  ship  ship plane\n"
          ],
          "name": "stdout"
        }
      ]
    },
    {
      "cell_type": "markdown",
      "metadata": {
        "id": "1K1Im0tnw1Po",
        "colab_type": "text"
      },
      "source": [
        "Now to look at the whole data set accuracy, remembering to send the images and labels to the GPU (device)."
      ]
    },
    {
      "cell_type": "code",
      "metadata": {
        "id": "LD3lVFIlvrn9",
        "colab_type": "code",
        "colab": {
          "base_uri": "https://localhost:8080/",
          "height": 35
        },
        "outputId": "d324aee2-1c29-4c7f-80ae-e8e418ce42d5"
      },
      "source": [
        "correct = 0\n",
        "total = 0\n",
        "with torch.no_grad():\n",
        "  for data in testloader:\n",
        "    images, labels = data\n",
        "    images, labels = images.to(device), labels.to(device)\n",
        "    outputs = net(images)\n",
        "    _, predicted = torch.max(outputs.data, 1)\n",
        "    total += labels.size(0)\n",
        "    correct += (predicted == labels).sum().item()\n",
        "\n",
        "print('Accuracy of the network on the 10000 test images: %d %%' % (\n",
        "  100 * correct / total))"
      ],
      "execution_count": 22,
      "outputs": [
        {
          "output_type": "stream",
          "text": [
            "Accuracy of the network on the 10000 test images: 59 %\n"
          ],
          "name": "stdout"
        }
      ]
    },
    {
      "cell_type": "markdown",
      "metadata": {
        "id": "Ak-Yi7f7yHI9",
        "colab_type": "text"
      },
      "source": [
        "What is the accuracy by class, since there appears to be some that are performing well but some still not performing great leaving the overall around 60%."
      ]
    },
    {
      "cell_type": "code",
      "metadata": {
        "id": "pAzXSQilxgvo",
        "colab_type": "code",
        "colab": {
          "base_uri": "https://localhost:8080/",
          "height": 201
        },
        "outputId": "c1363f3c-6619-4857-d6f6-0c9c8c1955de"
      },
      "source": [
        "class_correct = list(0. for i in range(10))\n",
        "class_total = list(0. for i in range(10))\n",
        "with torch.no_grad():\n",
        "  for data in testloader:\n",
        "    images, labels = data\n",
        "    images, labels = images.to(device), labels.to(device)\n",
        "    outputs = net(images)\n",
        "    _, predicted = torch.max(outputs, 1)\n",
        "    c = (predicted == labels).squeeze()\n",
        "    for i in range(4):\n",
        "      label = labels[i]\n",
        "      class_correct[label] += c[i].item()\n",
        "      class_total[label] += 1\n",
        "\n",
        "\n",
        "for i in range(10):\n",
        "  print('Accuracy of %5s : %2d %%' % (\n",
        "    classes[i], 100 * class_correct[i] / class_total[i]))"
      ],
      "execution_count": 23,
      "outputs": [
        {
          "output_type": "stream",
          "text": [
            "Accuracy of plane : 63 %\n",
            "Accuracy of   car : 70 %\n",
            "Accuracy of  bird : 36 %\n",
            "Accuracy of   cat : 47 %\n",
            "Accuracy of  deer : 32 %\n",
            "Accuracy of   dog : 49 %\n",
            "Accuracy of  frog : 78 %\n",
            "Accuracy of horse : 62 %\n",
            "Accuracy of  ship : 71 %\n",
            "Accuracy of truck : 81 %\n"
          ],
          "name": "stdout"
        }
      ]
    },
    {
      "cell_type": "markdown",
      "metadata": {
        "id": "GuLOWC1pyUME",
        "colab_type": "text"
      },
      "source": [
        "'Frog' and 'Truck' predictions seem to be fairly high at around the 80% correct, while things like cats and birds, mostly the animals, seem to be having a much harder time with predictions. However, it is good to note that all of these are much higher than the random chance of selecting the correct class, which would be 10%."
      ]
    },
    {
      "cell_type": "code",
      "metadata": {
        "id": "_mfFviKRx7-C",
        "colab_type": "code",
        "colab": {}
      },
      "source": [
        ""
      ],
      "execution_count": 0,
      "outputs": []
    }
  ]
}